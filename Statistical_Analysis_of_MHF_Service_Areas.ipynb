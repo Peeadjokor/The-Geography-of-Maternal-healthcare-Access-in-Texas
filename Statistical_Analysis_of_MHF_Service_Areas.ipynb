{
  "cells": [
    {
      "cell_type": "markdown",
      "metadata": {
        "id": "view-in-github",
        "colab_type": "text"
      },
      "source": [
        "<a href=\"https://colab.research.google.com/github/Peeadjokor/The-Geography-of-Maternal-healthcare-Access-in-Texas/blob/main/Statistical_Analysis_of_MHF_Service_Areas.ipynb\" target=\"_parent\"><img src=\"https://colab.research.google.com/assets/colab-badge.svg\" alt=\"Open In Colab\"/></a>"
      ]
    },
    {
      "cell_type": "markdown",
      "source": [
        "## **Income Level**"
      ],
      "metadata": {
        "id": "ATUMzHaS84qi"
      },
      "id": "ATUMzHaS84qi"
    },
    {
      "cell_type": "code",
      "source": [
        "from scipy.stats import chi2_contingency\n",
        "import statsmodels.api as sm\n",
        "\n",
        "# Function to input counts manually\n",
        "def input_counts():\n",
        "    categories = ['Low Income Outside MHF Service Area', 'Low Income Within MHF Service Area',\n",
        "                  'Non-Low Income Outside MHF Service Area', 'Non-Low Income Within MHF Service Area']\n",
        "    counts = []\n",
        "    for category in categories:\n",
        "        while True:\n",
        "            try:\n",
        "                count = int(input(f\"Enter count for {category}: \"))\n",
        "                counts.append(count)\n",
        "                break\n",
        "            except ValueError:\n",
        "                print(\"Please enter a valid integer.\")\n",
        "    return counts\n",
        "\n",
        "# Get input from user\n",
        "counts = input_counts()\n",
        "\n",
        "# Create contingency table from the entered counts\n",
        "contingency_table = [[counts[0], counts[1]], [counts[2], counts[3]]]\n",
        "\n",
        "# Perform Chi-squared test\n",
        "chi2, p, dof, expected = chi2_contingency(contingency_table)\n",
        "\n",
        "# Calculate Odds Ratio and its Confidence Interval\n",
        "table = sm.stats.Table2x2(contingency_table)  # This class is more suitable for a 2x2 table\n",
        "odds_ratio = table.oddsratio\n",
        "ci_low, ci_high = table.oddsratio_confint()\n",
        "\n",
        "print(\"Chi-squared Test Results:\")\n",
        "print(f\"Chi-squared Statistic: {chi2:.4f}\")\n",
        "print(f\"Degrees of Freedom: {dof}\")\n",
        "print(f\"P-value: {p:.4f}\")\n",
        "print(\"Significance: \" + (\"Significant\" if p < 0.05 else \"Not Significant\"))\n",
        "\n",
        "print(\"\\nOdds Ratio with 95% Confidence Interval:\")\n",
        "print(f\"Odds Ratio: {odds_ratio:.4f}\")\n",
        "print(f\"95% Confidence Interval: ({ci_low:.4f}, {ci_high:.4f})\")"
      ],
      "metadata": {
        "colab": {
          "base_uri": "https://localhost:8080/"
        },
        "id": "j5TT8xx38Omm",
        "outputId": "db2c9785-e048-47f6-cd72-ae6eb1cbec0f"
      },
      "id": "j5TT8xx38Omm",
      "execution_count": 1,
      "outputs": [
        {
          "output_type": "stream",
          "name": "stdout",
          "text": [
            "Enter count for Low Income Outside MHF Service Area: 2566\n",
            "Enter count for Low Income Within MHF Service Area: 580\n",
            "Enter count for Non-Low Income Outside MHF Service Area: 2614\n",
            "Enter count for Non-Low Income Within MHF Service Area: 1123\n",
            "Chi-squared Test Results:\n",
            "Chi-squared Statistic: 123.1237\n",
            "Degrees of Freedom: 1\n",
            "P-value: 0.0000\n",
            "Significance: Significant\n",
            "\n",
            "Odds Ratio with 95% Confidence Interval:\n",
            "Odds Ratio: 1.9007\n",
            "95% Confidence Interval: (1.6958, 2.1303)\n"
          ]
        }
      ]
    },
    {
      "cell_type": "markdown",
      "source": [
        "## **Health Insurance Coverage**"
      ],
      "metadata": {
        "id": "Z9C81URn9iHs"
      },
      "id": "Z9C81URn9iHs"
    },
    {
      "cell_type": "code",
      "source": [
        "from scipy.stats import chi2_contingency\n",
        "import statsmodels.api as sm\n",
        "\n",
        "# Function to input counts manually\n",
        "def input_counts():\n",
        "    categories = ['Health_Insurance (Areas with High % of uninsured population) Outside MHF Service Area', 'Health_Insurance(Areas with High % of uninsured population) Within MHF Service Area',\n",
        "                  'Health_Insurance (Areas with Low % of uninsured population) Outside MHF Service Area', 'Health_Insurance(Areas with Low % of unsinsured popilation) Within MHF Service Area']\n",
        "    counts = []\n",
        "    for category in categories:\n",
        "        while True:\n",
        "            try:\n",
        "                count = int(input(f\"Enter count for {category}: \"))\n",
        "                counts.append(count)\n",
        "                break\n",
        "            except ValueError:\n",
        "                print(\"Please enter a valid integer.\")\n",
        "    return counts\n",
        "\n",
        "# Get input from user\n",
        "counts = input_counts()\n",
        "\n",
        "# Create contingency table from the entered counts\n",
        "contingency_table = [[counts[0], counts[1]], [counts[2], counts[3]]]\n",
        "\n",
        "# Perform Chi-squared test\n",
        "chi2, p, dof, expected = chi2_contingency(contingency_table)\n",
        "\n",
        "# Calculate Odds Ratio and its Confidence Interval\n",
        "table = sm.stats.Table2x2(contingency_table)  # This class is more suitable for a 2x2 table\n",
        "odds_ratio = table.oddsratio\n",
        "ci_low, ci_high = table.oddsratio_confint()\n",
        "\n",
        "print(\"Chi-squared Test Results:\")\n",
        "print(f\"Chi-squared Statistic: {chi2:.4f}\")\n",
        "print(f\"Degrees of Freedom: {dof}\")\n",
        "print(f\"P-value: {p:.4f}\")\n",
        "print(\"Significance: \" + (\"Significant\" if p < 0.05 else \"Not Significant\"))\n",
        "\n",
        "print(\"\\nOdds Ratio with 95% Confidence Interval:\")\n",
        "print(f\"Odds Ratio: {odds_ratio:.4f}\")\n",
        "print(f\"95% Confidence Interval: ({ci_low:.4f}, {ci_high:.4f})\")"
      ],
      "metadata": {
        "colab": {
          "base_uri": "https://localhost:8080/"
        },
        "id": "W9R6W-Ky9gvD",
        "outputId": "b717c81a-e1ff-4aa7-99c6-9c142a0dc6a1"
      },
      "id": "W9R6W-Ky9gvD",
      "execution_count": 2,
      "outputs": [
        {
          "output_type": "stream",
          "name": "stdout",
          "text": [
            "Enter count for Health_Insurance (Areas with High % of uninsured population) Outside MHF Service Area: 1064\n",
            "Enter count for Health_Insurance(Areas with High % of uninsured population) Within MHF Service Area: 33\n",
            "Enter count for Health_Insurance (Areas with Low % of uninsured population) Outside MHF Service Area: 5509\n",
            "Enter count for Health_Insurance(Areas with Low % of unsinsured popilation) Within MHF Service Area: 277\n",
            "Chi-squared Test Results:\n",
            "Chi-squared Statistic: 6.3799\n",
            "Degrees of Freedom: 1\n",
            "P-value: 0.0115\n",
            "Significance: Significant\n",
            "\n",
            "Odds Ratio with 95% Confidence Interval:\n",
            "Odds Ratio: 1.6212\n",
            "95% Confidence Interval: (1.1233, 2.3397)\n"
          ]
        }
      ]
    },
    {
      "cell_type": "markdown",
      "source": [
        "## **Education**"
      ],
      "metadata": {
        "id": "X9wiYAXQ98pV"
      },
      "id": "X9wiYAXQ98pV"
    },
    {
      "cell_type": "code",
      "source": [
        "from scipy.stats import chi2_contingency\n",
        "import statsmodels.api as sm\n",
        "\n",
        "# Function to input counts manually\n",
        "def input_counts():\n",
        "    categories = ['Education (Areas with High % of bachelors) Outside MHF Service Area', 'Education (Areas with High % of bachelors) Within MHF Service Area',\n",
        "                  'Education (Areas with Low % of bachelors) Outside MHF Service Area', 'Education (Areas with Low % of bachelors) Within MHF Service Area ']\n",
        "    counts = []\n",
        "    for category in categories:\n",
        "        while True:\n",
        "            try:\n",
        "                count = int(input(f\"Enter count for {category}: \"))\n",
        "                counts.append(count)\n",
        "                break\n",
        "            except ValueError:\n",
        "                print(\"Please enter a valid integer.\")\n",
        "    return counts\n",
        "\n",
        "# Get input from user\n",
        "counts = input_counts()\n",
        "\n",
        "# Create contingency table from the entered counts\n",
        "contingency_table = [[counts[0], counts[1]], [counts[2], counts[3]]]\n",
        "\n",
        "# Perform Chi-squared test\n",
        "chi2, p, dof, expected = chi2_contingency(contingency_table)\n",
        "\n",
        "# Calculate Odds Ratio and its Confidence Interval\n",
        "table = sm.stats.Table2x2(contingency_table)  # This class is more suitable for a 2x2 table\n",
        "odds_ratio = table.oddsratio\n",
        "ci_low, ci_high = table.oddsratio_confint()\n",
        "\n",
        "print(\"Chi-squared Test Results:\")\n",
        "print(f\"Chi-squared Statistic: {chi2:.4f}\")\n",
        "print(f\"Degrees of Freedom: {dof}\")\n",
        "print(f\"P-value: {p:.4f}\")\n",
        "print(\"Significance: \" + (\"Significant\" if p < 0.05 else \"Not Significant\"))\n",
        "\n",
        "print(\"\\nOdds Ratio with 95% Confidence Interval:\")\n",
        "print(f\"Odds Ratio: {odds_ratio:.4f}\")\n",
        "print(f\"95% Confidence Interval: ({ci_low:.4f}, {ci_high:.4f})\")"
      ],
      "metadata": {
        "colab": {
          "base_uri": "https://localhost:8080/"
        },
        "id": "J7S0qOV28QBv",
        "outputId": "daa0f638-1301-41da-ce31-f45d16a777bd"
      },
      "id": "J7S0qOV28QBv",
      "execution_count": 3,
      "outputs": [
        {
          "output_type": "stream",
          "name": "stdout",
          "text": [
            "Enter count for Education (Areas with High % of bachelors) Outside MHF Service Area: 2370\n",
            "Enter count for Education (Areas with High % of bachelors) Within MHF Service Area: 71\n",
            "Enter count for Education (Areas with Low % of bachelors) Outside MHF Service Area: 4274\n",
            "Enter count for Education (Areas with Low % of bachelors) Within MHF Service Area : 168\n",
            "Chi-squared Test Results:\n",
            "Chi-squared Statistic: 3.3297\n",
            "Degrees of Freedom: 1\n",
            "P-value: 0.0680\n",
            "Significance: Not Significant\n",
            "\n",
            "Odds Ratio with 95% Confidence Interval:\n",
            "Odds Ratio: 1.3121\n",
            "95% Confidence Interval: (0.9897, 1.7394)\n"
          ]
        }
      ]
    }
  ],
  "metadata": {
    "colab": {
      "provenance": [],
      "include_colab_link": true
    },
    "language_info": {
      "name": "python"
    },
    "kernelspec": {
      "name": "python3",
      "display_name": "Python 3"
    }
  },
  "nbformat": 4,
  "nbformat_minor": 5
}